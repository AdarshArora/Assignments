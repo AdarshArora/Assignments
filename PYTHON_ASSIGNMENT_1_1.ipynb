{
  "nbformat": 4,
  "nbformat_minor": 0,
  "metadata": {
    "colab": {
      "name": "PYTHON ASSIGNMENT 1.1.ipynb",
      "provenance": []
    },
    "kernelspec": {
      "name": "python3",
      "display_name": "Python 3"
    }
  },
  "cells": [
    {
      "cell_type": "markdown",
      "metadata": {
        "id": "jjjyQZ4SahKV",
        "colab_type": "text"
      },
      "source": [
        "**1. Write a program which will find all such numbers which are divisible by 7 but are not a\n",
        "multiple of 5, between 2000 and 3200 (both included). The numbers obtained should be printed\n",
        "in a comma-separated sequence on a single line.**\n"
      ]
    },
    {
      "cell_type": "code",
      "metadata": {
        "id": "dc_7X97nanAS",
        "colab_type": "code",
        "colab": {
          "base_uri": "https://localhost:8080/",
          "height": 54
        },
        "outputId": "360e0cd5-6f69-49d5-c76f-199123abb9b1"
      },
      "source": [
        "for i in range(2000,3201):\n",
        "  if i%7==0 and i%5!=0:\n",
        "    print(i,end=',')\n",
        "\n"
      ],
      "execution_count": null,
      "outputs": [
        {
          "output_type": "stream",
          "text": [
            "2002,2009,2016,2023,2037,2044,2051,2058,2072,2079,2086,2093,2107,2114,2121,2128,2142,2149,2156,2163,2177,2184,2191,2198,2212,2219,2226,2233,2247,2254,2261,2268,2282,2289,2296,2303,2317,2324,2331,2338,2352,2359,2366,2373,2387,2394,2401,2408,2422,2429,2436,2443,2457,2464,2471,2478,2492,2499,2506,2513,2527,2534,2541,2548,2562,2569,2576,2583,2597,2604,2611,2618,2632,2639,2646,2653,2667,2674,2681,2688,2702,2709,2716,2723,2737,2744,2751,2758,2772,2779,2786,2793,2807,2814,2821,2828,2842,2849,2856,2863,2877,2884,2891,2898,2912,2919,2926,2933,2947,2954,2961,2968,2982,2989,2996,3003,3017,3024,3031,3038,3052,3059,3066,3073,3087,3094,3101,3108,3122,3129,3136,3143,3157,3164,3171,3178,3192,3199,"
          ],
          "name": "stdout"
        }
      ]
    },
    {
      "cell_type": "markdown",
      "metadata": {
        "id": "GroDoW7ufQ80",
        "colab_type": "text"
      },
      "source": [
        "\n",
        "**2. Write a Python program to accept the user's first and last name and then getting them printed in the the reverse order with a space between first name and last name.**"
      ]
    },
    {
      "cell_type": "code",
      "metadata": {
        "id": "n-fXMQ1efug5",
        "colab_type": "code",
        "colab": {
          "base_uri": "https://localhost:8080/",
          "height": 68
        },
        "outputId": "201feafb-bcb7-48c1-d6cb-9f08c8b36304"
      },
      "source": [
        "a=input(\"Enter first name >> \")\n",
        "b=input(\"Enter last name >> \")\n",
        "print(a[::-1],\" \",b[::-1])"
      ],
      "execution_count": null,
      "outputs": [
        {
          "output_type": "stream",
          "text": [
            "Enter first name >> adarsh\n",
            "Enter last name >> aroraz\n",
            "hsrada  zarora\n"
          ],
          "name": "stdout"
        }
      ]
    },
    {
      "cell_type": "markdown",
      "metadata": {
        "id": "kCm_Dhh4hDlT",
        "colab_type": "text"
      },
      "source": [
        "**3. Write a Python program to find the volume of a sphere with diameter 12 cm.**\n",
        "\n",
        "**Formula: V=4/3 * π * r 3**"
      ]
    },
    {
      "cell_type": "code",
      "metadata": {
        "id": "SMmnl64rf6YK",
        "colab_type": "code",
        "colab": {
          "base_uri": "https://localhost:8080/",
          "height": 34
        },
        "outputId": "2488f2af-7980-4228-8ae3-83c71980adb2"
      },
      "source": [
        "import math\n",
        "diameter = 12\n",
        "r = diameter/2\n",
        "volume = (4/3)*math.pi*r**3\n",
        "print(\"Volume of sphere:\",volume)\n"
      ],
      "execution_count": null,
      "outputs": [
        {
          "output_type": "stream",
          "text": [
            "Volume of sphere: 904.7786842338603\n"
          ],
          "name": "stdout"
        }
      ]
    },
    {
      "cell_type": "code",
      "metadata": {
        "id": "zHFO5dpvhuB-",
        "colab_type": "code",
        "colab": {}
      },
      "source": [
        ""
      ],
      "execution_count": null,
      "outputs": []
    }
  ]
}